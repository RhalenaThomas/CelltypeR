{
 "cells": [
  {
   "cell_type": "code",
   "execution_count": 1,
   "metadata": {},
   "outputs": [],
   "source": [
    "#import pandas\n",
    "import pandas as pd\n",
    "import numpy as np\n",
    "from scipy.stats import stats\n"
   ]
  },
  {
   "cell_type": "markdown",
   "metadata": {},
   "source": [
    "I have several expression tables.\n",
    "I'll read in each table and z-score center normalize on zero and scale values -1 to 1\n",
    "I'll merge tables of the same data type take the mean values and inspect. \n",
    "Then I'll take the mean values across the datatypes and normalize if needed.\n",
    "This will be the input reference table. "
   ]
  },
  {
   "cell_type": "code",
   "execution_count": null,
   "metadata": {},
   "outputs": [],
   "source": [
    "# read in all the data\n",
    "\n",
    "fb3 <- read.csv(\"/home/rhalena/Documents/Documents/MyPapers/FACS/Analysis/Reference_matrix/HumanCellLandscape/fetalbrain3.csv\")\n",
    "fb5 <- read.csv(\"/home/rhalena/Documents/Documents/MyPapers/FACS/Analysis/Reference_matrix/HumanCellLandscape/fetalbrain5.csv\")\n",
    "lake <- read.csv(\"/home/rhalena/Documents/Documents/MyPapers/FACS/Analysis/Reference_matrix/HumanCellLandscape/Lake.csv\")\n",
    "lamanno <- read.csv(\"/home/rhalena/Documents/Documents/MyPapers/FACS/Analysis/Reference_matrix/HumanCellLandscape/lamanno.csv\")\n",
    "zhang <- read.csv(\"/home/rhalena/Documents/Documents/MyPapers/FACS/Analysis/Reference_matrix/HumanCellLandscape/zhang.csv\")\n"
   ]
  },
  {
   "cell_type": "code",
   "execution_count": null,
   "metadata": {},
   "outputs": [],
   "source": [
    "# z score each dataset\n",
    "\n"
   ]
  }
 ],
 "metadata": {
  "kernelspec": {
   "display_name": "Python 3",
   "language": "python",
   "name": "python3"
  },
  "language_info": {
   "codemirror_mode": {
    "name": "ipython",
    "version": 3
   },
   "file_extension": ".py",
   "mimetype": "text/x-python",
   "name": "python",
   "nbconvert_exporter": "python",
   "pygments_lexer": "ipython3",
   "version": "3.6.10"
  }
 },
 "nbformat": 4,
 "nbformat_minor": 2
}
